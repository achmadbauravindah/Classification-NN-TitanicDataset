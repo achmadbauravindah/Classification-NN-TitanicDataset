{
  "nbformat": 4,
  "nbformat_minor": 0,
  "metadata": {
    "colab": {
      "name": "Classification-NN-TitanicDataset.ipynb",
      "provenance": [],
      "collapsed_sections": [],
      "authorship_tag": "ABX9TyNR9HJIVq0OYFhGSHbsGeKO",
      "include_colab_link": true
    },
    "kernelspec": {
      "name": "python3",
      "display_name": "Python 3"
    },
    "language_info": {
      "name": "python"
    },
    "accelerator": "GPU",
    "gpuClass": "standard"
  },
  "cells": [
    {
      "cell_type": "markdown",
      "metadata": {
        "id": "view-in-github",
        "colab_type": "text"
      },
      "source": [
        "<a href=\"https://colab.research.google.com/github/achmadbauravindah/Classification-NN-TitanicDataset/blob/main/Classification_NN_TitanicDataset.ipynb\" target=\"_parent\"><img src=\"https://colab.research.google.com/assets/colab-badge.svg\" alt=\"Open In Colab\"/></a>"
      ]
    },
    {
      "cell_type": "code",
      "source": [
        "_ = ! pip install scikeras -q"
      ],
      "metadata": {
        "id": "I45BXgEg0fGR"
      },
      "execution_count": null,
      "outputs": []
    },
    {
      "cell_type": "code",
      "execution_count": null,
      "metadata": {
        "id": "MtxnyFFHdgjY"
      },
      "outputs": [],
      "source": [
        "import tensorflow as tf \n",
        "from tensorflow.keras.models import Sequential # Sequential Model Keras\n",
        "from scikeras.wrappers import KerasClassifier # Keras Wrapper to Sci-kit Model\n",
        "from tensorflow.keras.layers import Input, Dense # Layer\n",
        "\n",
        "import matplotlib.pyplot as plt # Plotting\n",
        "import numpy as np # Array\n",
        "import pandas as pd # Dataframe\n",
        "from sklearn.impute import KNNImputer # Missing Value\n",
        "from sklearn.preprocessing import MinMaxScaler # Normalisasi data\n",
        "from sklearn.model_selection import train_test_split # Split data\n",
        "from sklearn.metrics import accuracy_score # Evaluation Metrics\n",
        "from sklearn.model_selection import GridSearchCV # Grid Search \n",
        "import time"
      ]
    },
    {
      "cell_type": "markdown",
      "source": [
        "# 1. Preprocessing"
      ],
      "metadata": {
        "id": "6HyFj9eRqyK3"
      }
    },
    {
      "cell_type": "code",
      "source": [
        "# Get data from Kaggle\n",
        "_ = ! git clone https://github.com/achmadbauravindah/ravin_kaggle_credential.git # get credential from kaggle\n",
        "_ = ! pip install kaggle # install kaggle on device\n",
        "_ = ! mkdir ~/.kaggle # make hidden folder .kaggle to configure credential\n",
        "_ = ! cp ravin_kaggle_credential/kaggle.json ~/.kaggle/ # copy credential from github to .kaggle folder\n",
        "_ = ! chmod 600 ~/.kaggle/kaggle.json # change access\n",
        "_ = ! kaggle datasets download titanic-dataset # which dataset to download\n",
        "_ = ! unzip titanic-dataset # unzip if data zipped"
      ],
      "metadata": {
        "id": "wHXssMgVfTEJ"
      },
      "execution_count": null,
      "outputs": []
    },
    {
      "cell_type": "code",
      "source": [
        "# Load dataset from storage\n",
        "PATH = \"Titanic Dataset.csv\"\n",
        "raw_data = pd.read_csv(PATH, delimiter=';')"
      ],
      "metadata": {
        "id": "Z4giJXiYe-ye"
      },
      "execution_count": null,
      "outputs": []
    },
    {
      "cell_type": "code",
      "source": [
        "raw_data.isnull().sum()"
      ],
      "metadata": {
        "colab": {
          "base_uri": "https://localhost:8080/"
        },
        "id": "ESleheCgg2wZ",
        "outputId": "5b158029-25a7-487c-c607-354a66fc9002"
      },
      "execution_count": null,
      "outputs": [
        {
          "output_type": "execute_result",
          "data": {
            "text/plain": [
              "PassengerId       0\n",
              "Survived          0\n",
              "Pclass            0\n",
              "Name              0\n",
              "Sex               0\n",
              "Age             263\n",
              "SibSp             0\n",
              "Parch             0\n",
              "Ticket            0\n",
              "Fare              1\n",
              "Cabin          1014\n",
              "Embarked          2\n",
              "dtype: int64"
            ]
          },
          "metadata": {},
          "execution_count": 5
        }
      ]
    },
    {
      "cell_type": "code",
      "source": [
        "raw_data.shape"
      ],
      "metadata": {
        "colab": {
          "base_uri": "https://localhost:8080/"
        },
        "id": "TJp_nztFnw0t",
        "outputId": "46d2b48e-30e4-4951-ed42-8d6f61a359cf"
      },
      "execution_count": null,
      "outputs": [
        {
          "output_type": "execute_result",
          "data": {
            "text/plain": [
              "(1309, 12)"
            ]
          },
          "metadata": {},
          "execution_count": 6
        }
      ]
    },
    {
      "cell_type": "code",
      "source": [
        "def dropColumns(data):\n",
        "  data = data.drop(['PassengerId'], axis=1) # Karena tidak ada korelasi dengan data\n",
        "  data = data.drop(['Name'], axis=1) # Karena tidak ada korelasi dengan data\n",
        "  data = data.drop(['Ticket'], axis=1) # Karena tidak ada korelasi dengan data\n",
        "  data = data.drop(['Cabin'], axis=1) # Karena values banyak yang missing\n",
        "  return data"
      ],
      "metadata": {
        "id": "cfpJ5UgCgNYH"
      },
      "execution_count": null,
      "outputs": []
    },
    {
      "cell_type": "code",
      "source": [
        "def encodingData(data): # Encode / Merubah Kategorikal menjadi Numerikal\n",
        "  data['Sex'].replace({ 'male':0, 'female':1}, inplace=True)\n",
        "  data['Embarked'].replace({ 'C':0, 'Q':1, 'S':2}, inplace=True)\n",
        "  return data"
      ],
      "metadata": {
        "id": "BMZiNU94inHW"
      },
      "execution_count": null,
      "outputs": []
    },
    {
      "cell_type": "code",
      "source": [
        "def handleMissingValues(data):\n",
        "  k = 5\n",
        "  imputer = KNNImputer(n_neighbors=k)\n",
        "  data = pd.DataFrame(imputer.fit_transform(data), columns = data.columns)\n",
        "  return data"
      ],
      "metadata": {
        "id": "WaRRr5_Tkke-"
      },
      "execution_count": null,
      "outputs": []
    },
    {
      "cell_type": "code",
      "source": [
        "def normalizeData(data):\n",
        "  data = np.array(data) # Ubah ke Numpy\n",
        "  data = np.rint(data) # Membulatkan data\n",
        "  data = pd.DataFrame(data) # Ubah ke Pandas\n",
        "  scaler = MinMaxScaler()\n",
        "  data = pd.DataFrame(scaler.fit_transform(data), columns = data.columns)\n",
        "  return data"
      ],
      "metadata": {
        "id": "Hh-c4G-kkpoI"
      },
      "execution_count": null,
      "outputs": []
    },
    {
      "cell_type": "code",
      "source": [
        "def sliceLabel(data):\n",
        "  X = data\n",
        "  y = data.pop(0)\n",
        "  return X, y"
      ],
      "metadata": {
        "id": "rNw4H4n2ksl1"
      },
      "execution_count": null,
      "outputs": []
    },
    {
      "cell_type": "code",
      "source": [
        "def toNumpy(X, y):\n",
        "  X = np.array(X)\n",
        "  y = np.array(y)\n",
        "  return X, y"
      ],
      "metadata": {
        "id": "mDRHJW25eADm"
      },
      "execution_count": null,
      "outputs": []
    },
    {
      "cell_type": "code",
      "source": [
        "titanic_data = raw_data\n",
        "titanic_data = dropColumns(titanic_data)\n",
        "titanic_data = encodingData(titanic_data)\n",
        "titanic_data = handleMissingValues(titanic_data)\n",
        "titanic_data = normalizeData(titanic_data)\n",
        "X, y = sliceLabel(titanic_data) # Memisahkan data input dengan data label\n",
        "X, y = toNumpy(X ,y) # Mengubah data ke bentuk array numpy"
      ],
      "metadata": {
        "id": "gVaOoB5xk-si"
      },
      "execution_count": null,
      "outputs": []
    },
    {
      "cell_type": "markdown",
      "source": [
        "# 2. Processing"
      ],
      "metadata": {
        "id": "hZc0duCnq3vq"
      }
    },
    {
      "cell_type": "code",
      "source": [
        "# PARAMS\n",
        "# define the grid search parameters\n",
        "# EPOCHS = [25, 50, 75, 100]\n",
        "# OPTIMIZER = ['Adam', 'SGD', 'RMSProp']\n",
        "# LR = [0.01, 0.001, 0.0001, 0.00001]\n",
        "NEURONS = [12, 18, 24, 60]\n",
        "# create params to try each model\n",
        "param_grid = dict( \n",
        "                  # optimizer = OPTIMIZER, \n",
        "                  # optimizer__learning_rate = LR, \n",
        "                  # epochs = EPOCHS,\n",
        "                  model__neurons=NEURONS,\n",
        "                  )"
      ],
      "metadata": {
        "id": "MTsP_1qlt3s9"
      },
      "execution_count": null,
      "outputs": []
    },
    {
      "cell_type": "code",
      "source": [
        "def NN(neurons):\n",
        "  # FCL\n",
        "  model = Sequential([\n",
        "            Input(shape=(X.shape[1],)),\n",
        "            Dense(7, activation='relu'),\n",
        "            Dense(neurons, activation='relu'),\n",
        "            Dense(1, activation='sigmoid')\n",
        "  ])\n",
        "  model.compile(loss='binary_crossentropy', metrics=['accuracy'])\n",
        "  return model"
      ],
      "metadata": {
        "id": "oJwYhhxRvL4s"
      },
      "execution_count": null,
      "outputs": []
    },
    {
      "cell_type": "code",
      "source": [
        "# Sci-kit Wrapper for Keras\n",
        "model = KerasClassifier(model=NN, verbose=1)\n",
        "\n",
        "# create tuning params model with grid\n",
        "grid = GridSearchCV(estimator=model, param_grid=param_grid, n_jobs=-1, cv=10)\n",
        "# train all params\n",
        "grid_result = grid.fit(X, y)\n",
        "# summarize results\n",
        "print(\"Best: %f using %s\" % (grid_result.best_score_, grid_result.best_params_))\n",
        "means = grid_result.cv_results_['mean_test_score']\n",
        "stds = grid_result.cv_results_['std_test_score']\n",
        "params = grid_result.cv_results_['params']\n",
        "for mean, stdev, param in zip(means, stds, params):\n",
        "    print(\"%f (%f) with: %r\" % (mean, stdev, param))"
      ],
      "metadata": {
        "id": "rLRwTmqteRVj",
        "colab": {
          "base_uri": "https://localhost:8080/"
        },
        "outputId": "baaf9005-cb83-4f34-d451-5e3ff9be9de6"
      },
      "execution_count": null,
      "outputs": [
        {
          "output_type": "stream",
          "name": "stdout",
          "text": [
            "41/41 [==============================] - 1s 3ms/step - loss: 0.6046 - accuracy: 0.6455\n",
            "Best: 0.720323 using {'model__neurons': 60}\n",
            "0.712748 (0.088079) with: {'model__neurons': 12}\n",
            "0.675138 (0.100307) with: {'model__neurons': 18}\n",
            "0.655437 (0.028354) with: {'model__neurons': 24}\n",
            "0.720323 (0.074789) with: {'model__neurons': 60}\n"
          ]
        }
      ]
    },
    {
      "cell_type": "code",
      "execution_count": null,
      "metadata": {
        "id": "IVDeO2INcmR0"
      },
      "outputs": [],
      "source": [
        "# Best Model: 0.851832 using {'epochs': 25, 'model__neurons': 24, 'optimizer': 'RMSProp', 'optimizer__learning_rate': 0.01}\n",
        "def BestModelBackpro(X, y):\n",
        "  lr = 0.01\n",
        "  neuron_hidden = 60\n",
        "  activate_function = 'sigmoid'\n",
        "  # Container untuk menampung semua layer\n",
        "  modelBackpro = Sequential()\n",
        "\n",
        "  # Menambahkan layer pada container\n",
        "  modelBackpro.add(Dense(6, input_shape = (7,))) # Input Layer\n",
        "  modelBackpro.add(Dense(neuron_hidden, activation='relu')) # Hidden Layer ke-1\n",
        "  modelBackpro.add(Dense(1, activation = activate_function)) # Output Layer\n",
        "\n",
        "  optimizer = tf.keras.optimizers.RMSprop(lr)\n",
        "  loss = tf.keras.losses.MeanSquaredError()\n",
        "\n",
        "  # Compile ModelBackpro / Proses modelBackpro\n",
        "  modelBackpro.compile(loss = loss, metrics=['accuracy'], optimizer = optimizer)\n",
        "\n",
        "  return modelBackpro"
      ]
    },
    {
      "cell_type": "code",
      "source": [
        "BestModelBackpro = BestModelBackpro(X, y)"
      ],
      "metadata": {
        "id": "fA2PaYH8dT6s"
      },
      "execution_count": null,
      "outputs": []
    },
    {
      "cell_type": "code",
      "source": [
        "from sklearn.metrics import accuracy_score\n",
        "from sklearn.model_selection import KFold\n",
        "from sklearn.metrics import confusion_matrix\n",
        "from sklearn.metrics import precision_score, recall_score, f1_score\n",
        "\n",
        "def trainModelWithKFlodBackpro(n_folds, model, X, y):\n",
        "  kfold = KFold(n_splits=n_folds, shuffle=True)\n",
        "\n",
        "  # Simpan Metrics tiap fold\n",
        "  acc_per_fold = []\n",
        "  cm_per_fold = []\n",
        "  precision_per_fold = []\n",
        "  recall_per_fold =[]\n",
        "  f1_per_fold = []\n",
        "\n",
        "  for train_i, test_i in kfold.split(X, y):\n",
        "    X_train = X[train_i]\n",
        "    y_train = y[train_i]\n",
        "    X_test = X[test_i]\n",
        "    y_test = y[test_i]\n",
        "    \n",
        "    model.fit(X_train,\n",
        "              y_train,\n",
        "              batch_size = 25,\n",
        "              epochs = 25,\n",
        "              verbose = 0,\n",
        "              shuffle = True,\n",
        "              steps_per_epoch = int(X_train.shape[0]/25),\n",
        "              )\n",
        "    \n",
        "    y_test_predicted = model.predict(X_test)\n",
        "    y_test_predicted = (y_test_predicted > 0.5).astype(int)\n",
        "    cm, accuracy, precision, recall, f1 = getMetrics(y_test, y_test_predicted)\n",
        "\n",
        "    cm_per_fold.append(cm)\n",
        "    acc_per_fold.append(accuracy)\n",
        "    precision_per_fold.append(precision)\n",
        "    recall_per_fold.append(recall)\n",
        "    f1_per_fold.append(f1)\n",
        "  return acc_per_fold, cm_per_fold, precision_per_fold, recall_per_fold, f1_per_fold"
      ],
      "metadata": {
        "id": "X2HE6dcwrDdO"
      },
      "execution_count": null,
      "outputs": []
    },
    {
      "cell_type": "code",
      "source": [
        "def getMetrics(y_test_actual, y_test_predict):\n",
        "  cm = confusion_matrix(y_test_actual, y_test_predict)\n",
        "  accuracy = accuracy_score(y_test_actual, y_test_predict)\n",
        "  recall = recall_score(y_test_actual, y_test_predict, average='macro')\n",
        "  precision = precision_score(y_test_actual, y_test_predict, average='macro')\n",
        "  f1 = f1_score(y_test_actual, y_test_predict, average='macro')\n",
        "  return cm, accuracy*100, precision*100, recall*100, f1*100"
      ],
      "metadata": {
        "id": "8eOhso68rU7B"
      },
      "execution_count": null,
      "outputs": []
    },
    {
      "cell_type": "code",
      "source": [
        "def ploting(cm_per_fold, \n",
        "            acc_per_fold, \n",
        "            precision_per_fold, \n",
        "            recall_per_fold, \n",
        "            f1_per_fold\n",
        "            ):                    \n",
        "  index = 0\n",
        "  for cm in cm_per_fold:\n",
        "    acc = acc_per_fold[index]\n",
        "    precision = precision_per_fold[index]\n",
        "    recall = recall_per_fold[index]\n",
        "    f1 = f1_per_fold[index]\n",
        "    print('------------------------------------------------------------------------')\n",
        "    print(f'> Fold {index+1} - Accuracy: {acc}%')\n",
        "    # Show Precision\n",
        "    print('Precision: {:.2f}%'.format(precision))\n",
        "    # Show Recall\n",
        "    print('Recall: {:.2f}%'.format(recall))\n",
        "    # Show F1Score\n",
        "    print('F1 Score: {:.2f}%'.format(f1))\n",
        "    # Show Confusion Matrix\n",
        "    fig, ax = plt.subplots(figsize=(3, 3), constrained_layout=\"True\")\n",
        "    ax.matshow(cm, cmap=plt.cm.Blues, alpha=0.3)\n",
        "    for i in range(cm.shape[0]):\n",
        "        for j in range(cm.shape[1]):\n",
        "            ax.text(x=j, y=i, s=cm[i, j], va='center', ha='center')        \n",
        "    plt.xlabel('Predictions', fontsize=12)\n",
        "    plt.ylabel('Actuals', fontsize=12)\n",
        "    plt.title('Confusion Matrix', fontsize=12)\n",
        "    plt.show()\n",
        "    index+=1\n",
        "  print('------------------------------------------------------------------------')\n",
        "  print(\"RATA-RATA SEMUA 'METRICS' UNTUK SEMUA FOLD:\")\n",
        "  print(f'> Accuracy: {np.mean(acc_per_fold)}')\n",
        "  print(f'> Precision: {np.mean(precision_per_fold)}%')\n",
        "  print(f'> Recall: {np.mean(recall_per_fold)}%')\n",
        "  print(f'> F1Score: {np.mean(f1_per_fold)}%')\n",
        "\n",
        "  print('------------------------------------------------------------------------')"
      ],
      "metadata": {
        "id": "fp335r9Kq-mz"
      },
      "execution_count": null,
      "outputs": []
    },
    {
      "cell_type": "code",
      "source": [
        "def showAccuracyPlotFold(accuracy, epoch_time):\n",
        "  foldKeN = [\"1\", \"2\", \"3\", \"4\", \"5\", \"6\", \"7\", \"8\", \"9\", \"10\"]\n",
        "  Akurasi = accuracy\n",
        "\n",
        "  fig, ax = plt.subplots()\n",
        "  ax.plot(foldKeN, Akurasi)\n",
        "\n",
        "  ax.set(xlabel='Fold - n', ylabel='Akurasi (%)',\n",
        "        title= 'Hasil Akurasi Epoch = 25 ({:.2f} s)'.format(epoch_time))\n",
        "  ax.grid()\n",
        "  \n",
        "  plt.show()"
      ],
      "metadata": {
        "id": "eDz2HbhirGyP"
      },
      "execution_count": null,
      "outputs": []
    },
    {
      "cell_type": "code",
      "source": [
        "# Model Backpro\n",
        "start = time.process_time()\n",
        "acc_per_fold, cm_per_fold, precision_per_fold, recall_per_fold, f1_per_fold = trainModelWithKFlodBackpro(10, BestModelBackpro, X, y)\n",
        "epoch_time = time.process_time() - start\n",
        "\n",
        "ploting(cm_per_fold, \n",
        "        acc_per_fold, \n",
        "        precision_per_fold, \n",
        "        recall_per_fold, \n",
        "        f1_per_fold\n",
        "        )\n",
        "showAccuracyPlotFold(acc_per_fold, epoch_time)\n",
        "print('Waktu Komputasi Logistic Regression ({:.2f} s)'.format(epoch_time))"
      ],
      "metadata": {
        "colab": {
          "base_uri": "https://localhost:8080/",
          "height": 1000
        },
        "id": "J_c4kkH5q5cX",
        "outputId": "f16189e2-f032-49fa-f364-dacc3d77b14a"
      },
      "execution_count": null,
      "outputs": [
        {
          "output_type": "stream",
          "name": "stdout",
          "text": [
            "------------------------------------------------------------------------\n",
            "> Fold 1 - Accuracy: 83.20610687022901%\n",
            "Precision: 83.88%\n",
            "Recall: 78.58%\n",
            "F1 Score: 80.21%\n"
          ]
        },
        {
          "output_type": "display_data",
          "data": {
            "text/plain": [
              "<Figure size 216x216 with 1 Axes>"
            ],
            "image/png": "[encoded data removed]"
          },
          "metadata": {
            "needs_background": "light"
          }
        },
        {
          "output_type": "stream",
          "name": "stdout",
          "text": [
            "------------------------------------------------------------------------\n",
            "> Fold 2 - Accuracy: 87.78625954198473%\n",
            "Precision: 86.85%\n",
            "Recall: 86.85%\n",
            "F1 Score: 86.85%\n"
          ]
        },
        {
          "output_type": "display_data",
          "data": {
            "text/plain": [
              "<Figure size 216x216 with 1 Axes>"
            ],
            "image/png": "[encoded data removed]"
          },
          "metadata": {
            "needs_background": "light"
          }
        },
        {
          "output_type": "stream",
          "name": "stdout",
          "text": [
            "------------------------------------------------------------------------\n",
            "> Fold 3 - Accuracy: 89.31297709923665%\n",
            "Precision: 89.79%\n",
            "Recall: 88.00%\n",
            "F1 Score: 88.68%\n"
          ]
        },
        {
          "output_type": "display_data",
          "data": {
            "text/plain": [
              "<Figure size 216x216 with 1 Axes>"
            ],
            "image/png": "[encoded data removed]"
          },
          "metadata": {
            "needs_background": "light"
          }
        },
        {
          "output_type": "stream",
          "name": "stdout",
          "text": [
            "------------------------------------------------------------------------\n",
            "> Fold 4 - Accuracy: 83.20610687022901%\n",
            "Precision: 81.98%\n",
            "Recall: 80.58%\n",
            "F1 Score: 81.18%\n"
          ]
        },
        {
          "output_type": "display_data",
          "data": {
            "text/plain": [
              "<Figure size 216x216 with 1 Axes>"
            ],
            "image/png": "[encoded data removed]"
          },
          "metadata": {
            "needs_background": "light"
          }
        },
        {
          "output_type": "stream",
          "name": "stdout",
          "text": [
            "------------------------------------------------------------------------\n",
            "> Fold 5 - Accuracy: 82.44274809160305%\n",
            "Precision: 81.91%\n",
            "Recall: 79.56%\n",
            "F1 Score: 80.43%\n"
          ]
        },
        {
          "output_type": "display_data",
          "data": {
            "text/plain": [
              "<Figure size 216x216 with 1 Axes>"
            ],
            "image/png": "[encoded data removed]"
          },
          "metadata": {
            "needs_background": "light"
          }
        },
        {
          "output_type": "stream",
          "name": "stdout",
          "text": [
            "------------------------------------------------------------------------\n",
            "> Fold 6 - Accuracy: 87.02290076335878%\n",
            "Precision: 85.37%\n",
            "Recall: 86.41%\n",
            "F1 Score: 85.83%\n"
          ]
        },
        {
          "output_type": "display_data",
          "data": {
            "text/plain": [
              "<Figure size 216x216 with 1 Axes>"
            ],
            "image/png": "[encoded data removed]"
          },
          "metadata": {
            "needs_background": "light"
          }
        },
        {
          "output_type": "stream",
          "name": "stdout",
          "text": [
            "------------------------------------------------------------------------\n",
            "> Fold 7 - Accuracy: 87.78625954198473%\n",
            "Precision: 89.07%\n",
            "Recall: 86.57%\n",
            "F1 Score: 87.24%\n"
          ]
        },
        {
          "output_type": "display_data",
          "data": {
            "text/plain": [
              "<Figure size 216x216 with 1 Axes>"
            ],
            "image/png": "[encoded data removed]"
          },
          "metadata": {
            "needs_background": "light"
          }
        },
        {
          "output_type": "stream",
          "name": "stdout",
          "text": [
            "------------------------------------------------------------------------\n",
            "> Fold 8 - Accuracy: 86.25954198473282%\n",
            "Precision: 86.97%\n",
            "Recall: 85.22%\n",
            "F1 Score: 85.74%\n"
          ]
        },
        {
          "output_type": "display_data",
          "data": {
            "text/plain": [
              "<Figure size 216x216 with 1 Axes>"
            ],
            "image/png": "[encoded data removed]"
          },
          "metadata": {
            "needs_background": "light"
          }
        },
        {
          "output_type": "stream",
          "name": "stdout",
          "text": [
            "------------------------------------------------------------------------\n",
            "> Fold 9 - Accuracy: 87.02290076335878%\n",
            "Precision: 86.83%\n",
            "Recall: 86.08%\n",
            "F1 Score: 86.40%\n"
          ]
        },
        {
          "output_type": "display_data",
          "data": {
            "text/plain": [
              "<Figure size 216x216 with 1 Axes>"
            ],
            "image/png": "[encoded data removed]"
          },
          "metadata": {
            "needs_background": "light"
          }
        },
        {
          "output_type": "stream",
          "name": "stdout",
          "text": [
            "------------------------------------------------------------------------\n",
            "> Fold 10 - Accuracy: 90.0%\n",
            "Precision: 88.61%\n",
            "Recall: 88.09%\n",
            "F1 Score: 88.34%\n"
          ]
        },
        {
          "output_type": "display_data",
          "data": {
            "text/plain": [
              "<Figure size 216x216 with 1 Axes>"
            ],
            "image/png": "[encoded data removed]"
          },
          "metadata": {
            "needs_background": "light"
          }
        },
        {
          "output_type": "stream",
          "name": "stdout",
          "text": [
            "------------------------------------------------------------------------\n",
            "RATA-RATA SEMUA 'METRICS' UNTUK SEMUA FOLD:\n",
            "> Accuracy: 86.40458015267176\n",
            "> Precision: 86.1263057071371%\n",
            "> Recall: 84.59283900022719%\n",
            "> F1Score: 85.09027778290134%\n",
            "------------------------------------------------------------------------\n"
          ]
        },
        {
          "output_type": "display_data",
          "data": {
            "text/plain": [
              "<Figure size 432x288 with 1 Axes>"
            ],
            "image/png": "[encoded data removed]"
          },
          "metadata": {
            "needs_background": "light"
          }
        },
        {
          "output_type": "stream",
          "name": "stdout",
          "text": [
            "Waktu Komputasi Logistic Regression (36.21 s)\n"
          ]
        }
      ]
    }
  ]
}